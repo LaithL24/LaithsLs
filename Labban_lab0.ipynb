{
 "cells": [
  {
   "cell_type": "code",
   "execution_count": 1,
   "id": "15dbb7ce-b073-4dc7-9e8f-63b1110c7f40",
   "metadata": {},
   "outputs": [],
   "source": [
    "import os\n",
    "import math"
   ]
  },
  {
   "cell_type": "code",
   "execution_count": 1,
   "id": "87736f29-1355-480f-9bb1-0ecd72116575",
   "metadata": {},
   "outputs": [
    {
     "name": "stdout",
     "output_type": "stream",
     "text": [
      "/Applications/anaconda3/bin/python\n"
     ]
    }
   ],
   "source": [
    "import sys\n",
    "print(sys.executable)"
   ]
  },
  {
   "cell_type": "code",
   "execution_count": 2,
   "id": "b55f25bb-b57a-46eb-afee-cc3d1431603a",
   "metadata": {},
   "outputs": [
    {
     "name": "stdout",
     "output_type": "stream",
     "text": [
      "['roads', 'cities', 'counties', 'states']\n",
      "[]\n",
      "['roads.txt', 'cities.txt', 'counties.txt', 'states.txt']\n"
     ]
    }
   ],
   "source": [
    "#Question 1\n",
    "#the main list\n",
    "mylist = ['roads', 'cities', 'counties', 'states']\n",
    "print(mylist)\n",
    "\n",
    "#the empty list\n",
    "newlist = []\n",
    "print(newlist)\n",
    "\n",
    "#the concatenating of the strings above with .txt\n",
    "for x in mylist:\n",
    "    newlist.append(x + '.txt')\n",
    "\n",
    "#final result!\n",
    "print(newlist)"
   ]
  },
  {
   "cell_type": "code",
   "execution_count": 3,
   "id": "c7bbd9f4-4ff7-42e1-a6cf-5737d62f78db",
   "metadata": {},
   "outputs": [
    {
     "name": "stdout",
     "output_type": "stream",
     "text": [
      "1.0\n",
      "3.141592653589793\n",
      "9.869604401089358\n",
      "31.006276680299816\n",
      "97.40909103400242\n",
      "306.0196847852814\n",
      "961.3891935753043\n",
      "3020.2932277767914\n",
      "9488.53101607057\n"
     ]
    }
   ],
   "source": [
    "#Question 2\n",
    "#the set up of the numbers\n",
    "exponent = 0\n",
    "num = math.pi\n",
    "#the loop with the results outputting\n",
    "while num ** exponent < 10000:\n",
    "    print (num ** exponent)\n",
    "    exponent += 1\n",
    "#answer to the question; What condition are you testing?\n",
    "#The condition that is being tested is to run pi raised to a power,\n",
    "#starting at 0, coninuing until the value would reach 10000 or higher.\n",
    "#This was only able to go up to pi to the power of 8. \n",
    "#Ultimetly the conditon tested used the while function to see what \n",
    "#exponent pi raised to in order to reach the limit set (<10000) for \n",
    "#pi being raised to a power (exponent) within the set limit, stopping \n",
    "#right before it reaches that threshhold/ boundry"
   ]
  }
 ],
 "metadata": {
  "kernelspec": {
   "display_name": "Python 3 (ipykernel)",
   "language": "python",
   "name": "python3"
  },
  "language_info": {
   "codemirror_mode": {
    "name": "ipython",
    "version": 3
   },
   "file_extension": ".py",
   "mimetype": "text/x-python",
   "name": "python",
   "nbconvert_exporter": "python",
   "pygments_lexer": "ipython3",
   "version": "3.7.13"
  }
 },
 "nbformat": 4,
 "nbformat_minor": 5
}
