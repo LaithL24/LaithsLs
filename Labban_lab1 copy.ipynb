{
 "cells": [
  {
   "cell_type": "code",
   "execution_count": 1,
   "id": "d3bd4866-ca43-4614-a906-0b28d31e347d",
   "metadata": {},
   "outputs": [],
   "source": [
    "import geopandas as gpd\n",
    "import fiona\n",
    "import pandas as pd\n",
    "\n",
    "layers = fiona.listlayers('lab1.gpkg')\n",
    "slist = []\n",
    "mlist = []\n",
    "map_id = []\n",
    "for layer_types in layers:\n",
    "    if layer_types.startswith('soilmu'):\n",
    "        slist.append(gpd.read_file('lab1.gpkg', layer = layer_types))\n",
    "        map_id.append(layer_types[-5:])\n",
    "    elif layer_types.startswith('muaggatt'):\n",
    "        mlist.append(gpd.read_file('lab1.gpkg', layer = layer_types))"
   ]
  },
  {
   "cell_type": "code",
   "execution_count": 2,
   "id": "c12078e2-ebe7-4054-a773-260ccd9172dc",
   "metadata": {
    "tags": []
   },
   "outputs": [
    {
     "data": {
      "text/html": [
       "<div>\n",
       "<style scoped>\n",
       "    .dataframe tbody tr th:only-of-type {\n",
       "        vertical-align: middle;\n",
       "    }\n",
       "\n",
       "    .dataframe tbody tr th {\n",
       "        vertical-align: top;\n",
       "    }\n",
       "\n",
       "    .dataframe thead th {\n",
       "        text-align: right;\n",
       "    }\n",
       "</style>\n",
       "<table border=\"1\" class=\"dataframe\">\n",
       "  <thead>\n",
       "    <tr style=\"text-align: right;\">\n",
       "      <th></th>\n",
       "      <th>STATES</th>\n",
       "      <th>NAME</th>\n",
       "      <th>Shape_Length</th>\n",
       "      <th>Shape_Area</th>\n",
       "      <th>HUC8</th>\n",
       "      <th>geometry</th>\n",
       "      <th>SPATIALVER</th>\n",
       "      <th>MUSYM</th>\n",
       "      <th>MUKEY</th>\n",
       "      <th>Shape_Length</th>\n",
       "      <th>Shape_Area</th>\n",
       "      <th>geometry_x</th>\n",
       "      <th>aws025wta</th>\n",
       "      <th>aws0150wta</th>\n",
       "      <th>drclassdcd</th>\n",
       "      <th>musym</th>\n",
       "      <th>geometry_y</th>\n",
       "      <th>mapunit</th>\n",
       "    </tr>\n",
       "  </thead>\n",
       "  <tbody>\n",
       "    <tr>\n",
       "      <th>0</th>\n",
       "      <td>CO</td>\n",
       "      <td>St. Vrain</td>\n",
       "      <td>2.675418</td>\n",
       "      <td>0.268070</td>\n",
       "      <td>10190005.0</td>\n",
       "      <td>MULTIPOLYGON (((-105.52543 40.29793, -105.5234...</td>\n",
       "      <td>3.0</td>\n",
       "      <td>21</td>\n",
       "      <td>512694</td>\n",
       "      <td>0.091099</td>\n",
       "      <td>0.000140</td>\n",
       "      <td>MULTIPOLYGON (((-105.45080 39.83970, -105.4550...</td>\n",
       "      <td>0.97</td>\n",
       "      <td>1.68</td>\n",
       "      <td>Well drained</td>\n",
       "      <td>21</td>\n",
       "      <td>None</td>\n",
       "      <td>co653</td>\n",
       "    </tr>\n",
       "    <tr>\n",
       "      <th>1</th>\n",
       "      <td>CO</td>\n",
       "      <td>Big Thompson</td>\n",
       "      <td>2.734573</td>\n",
       "      <td>0.228711</td>\n",
       "      <td>10190006.0</td>\n",
       "      <td>MULTIPOLYGON (((-105.31793 40.62803, -105.3147...</td>\n",
       "      <td>3.0</td>\n",
       "      <td>48</td>\n",
       "      <td>512720</td>\n",
       "      <td>0.076807</td>\n",
       "      <td>0.000076</td>\n",
       "      <td>MULTIPOLYGON (((-105.52310 39.82420, -105.5186...</td>\n",
       "      <td>1.39</td>\n",
       "      <td>4.68</td>\n",
       "      <td>Well drained</td>\n",
       "      <td>48</td>\n",
       "      <td>None</td>\n",
       "      <td>co653</td>\n",
       "    </tr>\n",
       "  </tbody>\n",
       "</table>\n",
       "</div>"
      ],
      "text/plain": [
       "  STATES          NAME  Shape_Length  Shape_Area        HUC8  \\\n",
       "0     CO     St. Vrain      2.675418    0.268070  10190005.0   \n",
       "1     CO  Big Thompson      2.734573    0.228711  10190006.0   \n",
       "\n",
       "                                            geometry  SPATIALVER MUSYM  \\\n",
       "0  MULTIPOLYGON (((-105.52543 40.29793, -105.5234...         3.0    21   \n",
       "1  MULTIPOLYGON (((-105.31793 40.62803, -105.3147...         3.0    48   \n",
       "\n",
       "    MUKEY  Shape_Length  Shape_Area  \\\n",
       "0  512694      0.091099    0.000140   \n",
       "1  512720      0.076807    0.000076   \n",
       "\n",
       "                                          geometry_x  aws025wta  aws0150wta  \\\n",
       "0  MULTIPOLYGON (((-105.45080 39.83970, -105.4550...       0.97        1.68   \n",
       "1  MULTIPOLYGON (((-105.52310 39.82420, -105.5186...       1.39        4.68   \n",
       "\n",
       "     drclassdcd musym geometry_y mapunit  \n",
       "0  Well drained    21       None   co653  \n",
       "1  Well drained    48       None   co653  "
      ]
     },
     "execution_count": 2,
     "metadata": {},
     "output_type": "execute_result"
    }
   ],
   "source": [
    "x = 0\n",
    "merge_layers = []\n",
    "for x in range(0,9):\n",
    "        merged_layers = slist[x].merge(mlist[x],left_on='MUSYM', right_on='musym', how = 'left')\n",
    "        merged_layers['mapunit'] = map_id[x]\n",
    "        x = x+1\n",
    "        merge_layers.append(merged_layers)\n",
    "        merge_layers0 = gpd.GeoDataFrame(merged_layers)\n",
    "        merge_layers0.set_geometry('geometry_x')\n",
    "        watershed = gpd.read_file('lab1.gpkg', layer = 'wbdhu8_lab1')\n",
    "        concatenated_layer = pd.concat([watershed, merge_layers0], axis=\"columns\")\n",
    "concatenated_layer.head(2)"
   ]
  },
  {
   "cell_type": "code",
   "execution_count": 3,
   "id": "320fed17-b3f3-4641-831b-61f98544b55a",
   "metadata": {},
   "outputs": [
    {
     "name": "stdout",
     "output_type": "stream",
     "text": [
      "There seems to be two intersects with the watershed boundaries at St. Vrain and Big Thompson CO!\n"
     ]
    }
   ],
   "source": [
    "print('There seems to be two intersects with the watershed boundaries at St. Vrain and Big Thompson CO!')"
   ]
  }
 ],
 "metadata": {
  "kernelspec": {
   "display_name": "Python 3 (ipykernel)",
   "language": "python",
   "name": "python3"
  },
  "language_info": {
   "codemirror_mode": {
    "name": "ipython",
    "version": 3
   },
   "file_extension": ".py",
   "mimetype": "text/x-python",
   "name": "python",
   "nbconvert_exporter": "python",
   "pygments_lexer": "ipython3",
   "version": "3.7.13"
  }
 },
 "nbformat": 4,
 "nbformat_minor": 5
}
